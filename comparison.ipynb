{
 "cells": [
  {
   "cell_type": "code",
   "execution_count": 1,
   "metadata": {},
   "outputs": [
    {
     "name": "stderr",
     "output_type": "stream",
     "text": [
      "c:\\Users\\Nathan\\AppData\\Local\\Programs\\Python\\Python311\\Lib\\site-packages\\tqdm\\auto.py:21: TqdmWarning: IProgress not found. Please update jupyter and ipywidgets. See https://ipywidgets.readthedocs.io/en/stable/user_install.html\n",
      "  from .autonotebook import tqdm as notebook_tqdm\n"
     ]
    }
   ],
   "source": [
    "from sentence_transformers import SentenceTransformer\n",
    "import time\n",
    "import numpy as np\n",
    "import json"
   ]
  },
  {
   "cell_type": "code",
   "execution_count": 2,
   "metadata": {},
   "outputs": [],
   "source": [
    "with open('output/embeddings_all-MiniLM-L6-v2.json', 'r', encoding='utf-8') as f:\n",
    "    data_minilm = json.load(f)\n",
    "\n",
    "with open('output/embeddings_distilbert-base-nli-stsb-mean-tokens.json', 'r', encoding='utf-8') as f:\n",
    "    data_distilbert = json.load(f)"
   ]
  },
  {
   "cell_type": "code",
   "execution_count": 3,
   "metadata": {},
   "outputs": [
    {
     "name": "stdout",
     "output_type": "stream",
     "text": [
      "e_minilm shape: (15, 384)\n",
      "distilbert shape: (15, 768)\n"
     ]
    }
   ],
   "source": [
    "# get the embeddings\n",
    "e_minilm = np.array(data_minilm[\"embeddings\"])\n",
    "e_distilbert = np.array(data_distilbert[\"embeddings\"])\n",
    "\n",
    "print(f\"e_minilm shape: {e_minilm.shape}\")\n",
    "print(f\"distilbert shape: {e_distilbert.shape}\")"
   ]
  },
  {
   "cell_type": "code",
   "execution_count": null,
   "metadata": {},
   "outputs": [
    {
     "name": "stderr",
     "output_type": "stream",
     "text": [
      "Batches: 100%|██████████| 32/32 [00:09<00:00,  3.52it/s]\n"
     ]
    },
    {
     "name": "stdout",
     "output_type": "stream",
     "text": [
      "MiniLM took 9.1424 seconds to generate embeddings.\n"
     ]
    },
    {
     "name": "stderr",
     "output_type": "stream",
     "text": [
      "Batches: 100%|██████████| 32/32 [00:09<00:00,  3.44it/s]"
     ]
    },
    {
     "name": "stdout",
     "output_type": "stream",
     "text": [
      "DistilBERT took 9.3550 seconds to generate embeddings.\n"
     ]
    },
    {
     "name": "stderr",
     "output_type": "stream",
     "text": [
      "\n"
     ]
    }
   ],
   "source": [
    "models = {\n",
    "    \"MiniLM\": SentenceTransformer('all-MiniLM-L6-v2'),\n",
    "    \"DistilBERT\": SentenceTransformer('distilbert-base-nli-stsb-mean-tokens')\n",
    "}\n",
    "\n",
    "sample = [\"This is a sample sentence.\"] * 1000\n",
    "\n",
    "for name, model in models.items():\n",
    "    start_time = time.time()\n",
    "    embeddings = model.encode(sample, show_progress_bar=True)\n",
    "    elapsed_time = time.time() - start_time\n",
    "    print(f\"{name} took {elapsed_time:.4f} seconds to generate embeddings.\")\n"
   ]
  },
  {
   "cell_type": "code",
   "execution_count": 5,
   "metadata": {},
   "outputs": [
    {
     "name": "stdout",
     "output_type": "stream",
     "text": [
      "MiniLM Embedding Memory Usage: 0.05 MB\n",
      "DistilBERT Embedding Memory Usage: 0.09 MB\n"
     ]
    }
   ],
   "source": [
    "minilm_memory = e_minilm.nbytes / 1e6  # convert to MB\n",
    "distilbert_memory = e_distilbert.nbytes / 1e6 \n",
    "\n",
    "print(f\"MiniLM Embedding Memory Usage: {minilm_memory:.2f} MB\")\n",
    "print(f\"DistilBERT Embedding Memory Usage: {distilbert_memory:.2f} MB\")"
   ]
  },
  {
   "cell_type": "markdown",
   "metadata": {},
   "source": [
    "Summary:\n",
    "1. DistilBERT embeddings are larger (768) compared to MiniLM (384)\n",
    "2. MiniLM is faster due to smaller dimensionality\n",
    "3. MiniLM embeddings consume less memory, making them more suitable for larger datasets."
   ]
  }
 ],
 "metadata": {
  "kernelspec": {
   "display_name": "Python 3",
   "language": "python",
   "name": "python3"
  },
  "language_info": {
   "codemirror_mode": {
    "name": "ipython",
    "version": 3
   },
   "file_extension": ".py",
   "mimetype": "text/x-python",
   "name": "python",
   "nbconvert_exporter": "python",
   "pygments_lexer": "ipython3",
   "version": "3.11.9"
  }
 },
 "nbformat": 4,
 "nbformat_minor": 2
}
